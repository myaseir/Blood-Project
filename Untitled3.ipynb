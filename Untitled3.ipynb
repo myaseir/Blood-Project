{
  "nbformat": 4,
  "nbformat_minor": 0,
  "metadata": {
    "colab": {
      "provenance": [],
      "authorship_tag": "ABX9TyNgH9ds5DVFHuv0X2ncr0s+",
      "include_colab_link": true
    },
    "kernelspec": {
      "name": "python3",
      "display_name": "Python 3"
    },
    "language_info": {
      "name": "python"
    }
  },
  "cells": [
    {
      "cell_type": "markdown",
      "metadata": {
        "id": "view-in-github",
        "colab_type": "text"
      },
      "source": [
        "<a href=\"https://colab.research.google.com/github/myaseir/pytorch-notes/blob/main/Untitled3.ipynb\" target=\"_parent\"><img src=\"https://colab.research.google.com/assets/colab-badge.svg\" alt=\"Open In Colab\"/></a>"
      ]
    },
    {
      "cell_type": "code",
      "execution_count": null,
      "metadata": {
        "id": "7WoUWIigKGXT"
      },
      "outputs": [],
      "source": [
        "import torch"
      ]
    },
    {
      "cell_type": "code",
      "source": [
        "tensor_2d = torch.randn(3,4)\n",
        "tensor_2d\n"
      ],
      "metadata": {
        "colab": {
          "base_uri": "https://localhost:8080/"
        },
        "id": "bBvzjJJTLgzm",
        "outputId": "5cf0b0f7-7c3d-4176-aec4-2d3f4cde7327"
      },
      "execution_count": null,
      "outputs": [
        {
          "output_type": "execute_result",
          "data": {
            "text/plain": [
              "tensor([[-1.0405, -0.8448, -1.1343,  2.7913],\n",
              "        [-0.5966,  1.4524,  0.9966, -1.2414],\n",
              "        [ 1.3967, -1.1379, -0.1127, -0.8039]])"
            ]
          },
          "metadata": {},
          "execution_count": 4
        }
      ]
    },
    {
      "cell_type": "code",
      "source": [
        "import torch\n",
        "import torch.nn as nn\n",
        "import torch.nn.functional as F"
      ],
      "metadata": {
        "id": "o0EhTOQ0bO_W"
      },
      "execution_count": 5,
      "outputs": []
    },
    {
      "cell_type": "code",
      "source": [
        "# create a model class that inherit nn.module\n",
        "class Model(nn.Module):\n",
        "  # Input layer ( features of the flower)\n",
        "  # hidden layer1 (number of neurons)\n",
        "  # h2 (n)\n",
        "  # output ( 3 classes of iris flowers)\n",
        "  def __init__(self, in_features=4, h1=8, h2=8, out_features=3):\n",
        "    super().__init__() #instantiate our nn.module\n",
        "    self.fc1=nn.Linear(in_features, h1)\n",
        "    self.fc2=nn.Linear(h1, h2)\n",
        "    self.out=nn.Linear(h2,out_features)\n",
        "\n",
        "  def forward(self,x):\n",
        "    x=F.relu(self.fc1(x))\n",
        "    x=F.relu(self.fc2(x))\n",
        "    x=self.out(x)\n",
        "\n",
        "    return x"
      ],
      "metadata": {
        "id": "WWweqAtR6B5f"
      },
      "execution_count": 8,
      "outputs": []
    },
    {
      "cell_type": "code",
      "source": [
        "# pick a manual see for randomization\n",
        "torch.manual_seed(41)\n",
        "# create an instance of model\n",
        "model=Model()"
      ],
      "metadata": {
        "id": "89_0Te7B-JA1"
      },
      "execution_count": 9,
      "outputs": []
    }
  ]
}